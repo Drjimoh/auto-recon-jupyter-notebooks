{
 "cells": [
  {
   "cell_type": "code",
   "execution_count": 2,
   "id": "60ec1f76",
   "metadata": {},
   "outputs": [],
   "source": [
    "import os\n",
    "import time\n",
    "import pandas as pd"
   ]
  },
  {
   "cell_type": "code",
   "execution_count": 25,
   "id": "fd42812b",
   "metadata": {},
   "outputs": [],
   "source": [
    "\n",
    "\n",
    "\n",
    "class DataProcessor:\n",
    "    def __init__(self, file_path):\n",
    "        self.file_path = file_path\n",
    "        self.df = None  # Initialize DataFrame to None\n",
    "        #Initializing class attribute\n",
    "        self.matched_count = 0\n",
    "        self.unmatched_count = 0\n",
    "        self.total_sum = 0\n",
    "        self.matched_df = None\n",
    "        self.unmatched_df = None\n",
    "    \n",
    "    def create_df(self):\n",
    "        self.df = pd.read_csv(self.file_path, low_memory=False)\n",
    "        \n",
    "    def confirm_balance(self):\n",
    "        self.create_df()\n",
    "        self.df['TXN_AMT'] = self.df['TXN_AMT'].str.replace(',', '').astype(float)\n",
    "        self.total_amount = self.df['TXN_AMT'].sum()\n",
    "        self.total_amt_count = self.df['TXN_AMT'].count()\n",
    "        self.total_id_count = self.df['EXTERNAL_REF_NO'].count()\n",
    "        print(f'\"{self.file_path}\", {self.total_amount}, {self.total_amt_count}, {self.total_id_count}')\n",
    "    \n",
    "    def match_data(self):\n",
    "        self.create_df()\n",
    "        self.df['group_key'] = self.df['EXTERNAL_REF_NO'].str.extract('(?<=/)(.*?)(?=_)', expand=False)\n",
    "        # self.df['TXN_AMT'] = pd.to_numeric(self.df['TXN_AMT'], errors='coerce')\n",
    "        try:\n",
    "            self.df['TXN_AMT'] = self.df['TXN_AMT'].str.replace(',', '').astype(float)\n",
    "        except Exception as e:\n",
    "            pass\n",
    "        grouped_df = self.df.groupby('group_key')[['TXN_AMT']].agg(sum=pd.NamedAgg(column='TXN_AMT', aggfunc='sum')).reset_index()\n",
    "        grouped_df['matched'] = (grouped_df['sum'] == 0).astype(int)\n",
    "        \n",
    "        self.matched_df = self.df[self.df['group_key'].isin(grouped_df[grouped_df['matched'] == 1]['group_key'])]\n",
    "        \n",
    "        self.unmatched_df = self.df[~self.df['group_key'].isin(grouped_df[grouped_df['matched'] == 1]['group_key'])]\n",
    "         \n",
    "        self.total_sum += self.df['TXN_AMT'].sum()\n",
    "        \n",
    "        self.unmatched_count += self.unmatched_df['TXN_AMT'].count() #increase the number of unmatched items\n",
    "        \n",
    "        self.matched_count += self.matched_df['TXN_AMT'].count() #increase the number of matched items\n",
    "        \n",
    "        print(f\"Done Matching {self.file_path}: Found {self.matched_df['TXN_AMT'].count()} matched items and {self.unmatched_df['TXN_AMT'].count()} unmatched items...\")\n",
    "        \n",
    "    def update_record(self):\n",
    "         return self.total_sum, self.unmatched_count, self.matched_count   \n",
    "        \n",
    "    def save_output(self):\n",
    "        print(\"Saving output to file...\")\n",
    "        matched_df.to_csv(f\"{str(self.file_path)[-17:-4]}_matched.csv\", index=False)\n",
    "        unmatched_df.to_csv(f\"{str(self.file_path)[-17:-4]}_unmatched.csv\", index=False)\n",
    "        print(\"done saving... exiting logic\")\n",
    "\n",
    "        \n",
    "def split_n_save(df, output_prefix):\n",
    "\n",
    "    # Calculate how many chunks are needed and adjust last chunk size\n",
    "    num_chunks = int(df.shape[0] // 1000000)\n",
    "    last_chunk_size = df.shape[0] % 1000000\n",
    "\n",
    "    # Get column names (assuming you have them)\n",
    "    column_names = df.columns\n",
    "\n",
    "    # Split the dataframe into chunks and save them\n",
    "    for i in range(num_chunks):\n",
    "        start_index = i * 1000000\n",
    "        end_index = (i + 1) * 1000000\n",
    "\n",
    "        # Adjust ending index for the last chunk\n",
    "        if i == num_chunks - 1:\n",
    "            end_index += last_chunk_size\n",
    "\n",
    "        chunk = df.iloc[start_index:end_index]\n",
    "        chunk.to_csv(f\"{output_prefix}{i+1}.csv\", index=False, columns=column_names)\n",
    "\n"
   ]
  },
  {
   "cell_type": "code",
   "execution_count": null,
   "id": "1db0b3a3",
   "metadata": {},
   "outputs": [],
   "source": []
  },
  {
   "cell_type": "code",
   "execution_count": null,
   "id": "8f249c30",
   "metadata": {},
   "outputs": [],
   "source": []
  },
  {
   "cell_type": "code",
   "execution_count": 19,
   "id": "08c18a2b-5034-4188-bf6d-4382c611b83a",
   "metadata": {
    "scrolled": true,
    "tags": []
   },
   "outputs": [
    {
     "name": "stdout",
     "output_type": "stream",
     "text": [
      "\"FILE_PATH\", \"SUM\", \"AMOUNT COUNT\",\"UNIQUE_ID_COUNT\"\n",
      "Done Matching C:\\Users\\waliu\\Documents\\aaaaaaAutom8\\spools\\combo\\spool1_sheet10.csv: Found 933425 matched items and 66575 unmatched items...\n",
      "Done Matching C:\\Users\\waliu\\Documents\\aaaaaaAutom8\\spools\\combo\\spool1_sheet11.csv: Found 899016 matched items and 100984 unmatched items...\n",
      "Done Matching C:\\Users\\waliu\\Documents\\aaaaaaAutom8\\spools\\combo\\spool1_sheet12.csv: Found 970494 matched items and 29506 unmatched items...\n",
      "Done Matching C:\\Users\\waliu\\Documents\\aaaaaaAutom8\\spools\\combo\\spool1_sheet13.csv: Found 949908 matched items and 50092 unmatched items...\n",
      "Done Matching C:\\Users\\waliu\\Documents\\aaaaaaAutom8\\spools\\combo\\spool1_sheet14.csv: Found 927225 matched items and 72775 unmatched items...\n",
      "Done Matching C:\\Users\\waliu\\Documents\\aaaaaaAutom8\\spools\\combo\\spool1_sheet15.csv: Found 959064 matched items and 40936 unmatched items...\n",
      "Done Matching C:\\Users\\waliu\\Documents\\aaaaaaAutom8\\spools\\combo\\spool1_sheet16.csv: Found 981228 matched items and 18772 unmatched items...\n",
      "Done Matching C:\\Users\\waliu\\Documents\\aaaaaaAutom8\\spools\\combo\\spool1_sheet17.csv: Found 910371 matched items and 89629 unmatched items...\n",
      "Done Matching C:\\Users\\waliu\\Documents\\aaaaaaAutom8\\spools\\combo\\spool1_sheet8.csv: Found 906783 matched items and 93217 unmatched items...\n",
      "Done Matching C:\\Users\\waliu\\Documents\\aaaaaaAutom8\\spools\\combo\\spool1_sheet9.csv: Found 907782 matched items and 92218 unmatched items...\n",
      "Done Matching C:\\Users\\waliu\\Documents\\aaaaaaAutom8\\spools\\combo\\spool2_sheet0.csv: Found 858375 matched items and 141625 unmatched items...\n",
      "Done Matching C:\\Users\\waliu\\Documents\\aaaaaaAutom8\\spools\\combo\\spool2_sheet1.csv: Found 896559 matched items and 103441 unmatched items...\n",
      "Done Matching C:\\Users\\waliu\\Documents\\aaaaaaAutom8\\spools\\combo\\spool2_sheet10.csv: Found 0 matched items and 1000000 unmatched items...\n",
      "Done Matching C:\\Users\\waliu\\Documents\\aaaaaaAutom8\\spools\\combo\\spool2_sheet11.csv: Found 0 matched items and 1000000 unmatched items...\n",
      "Done Matching C:\\Users\\waliu\\Documents\\aaaaaaAutom8\\spools\\combo\\spool2_sheet12.csv: Found 0 matched items and 1000000 unmatched items...\n",
      "Done Matching C:\\Users\\waliu\\Documents\\aaaaaaAutom8\\spools\\combo\\spool2_sheet13.csv: Found 0 matched items and 724143 unmatched items...\n",
      "Done Matching C:\\Users\\waliu\\Documents\\aaaaaaAutom8\\spools\\combo\\spool2_sheet14.csv: Found 0 matched items and 185 unmatched items...\n",
      "Done Matching C:\\Users\\waliu\\Documents\\aaaaaaAutom8\\spools\\combo\\spool2_sheet2.csv: Found 959973 matched items and 40027 unmatched items...\n",
      "Done Matching C:\\Users\\waliu\\Documents\\aaaaaaAutom8\\spools\\combo\\spool2_sheet3.csv: Found 904746 matched items and 95254 unmatched items...\n",
      "Done Matching C:\\Users\\waliu\\Documents\\aaaaaaAutom8\\spools\\combo\\spool2_sheet4.csv: Found 842961 matched items and 157039 unmatched items...\n",
      "Done Matching C:\\Users\\waliu\\Documents\\aaaaaaAutom8\\spools\\combo\\spool2_sheet5.csv: Found 828963 matched items and 171037 unmatched items...\n",
      "Done Matching C:\\Users\\waliu\\Documents\\aaaaaaAutom8\\spools\\combo\\spool2_sheet6.csv: Found 922047 matched items and 77953 unmatched items...\n",
      "Done Matching C:\\Users\\waliu\\Documents\\aaaaaaAutom8\\spools\\combo\\spool2_sheet7.csv: Found 962541 matched items and 37459 unmatched items...\n",
      "Done Matching C:\\Users\\waliu\\Documents\\aaaaaaAutom8\\spools\\combo\\spool2_sheet8.csv: Found 446439 matched items and 190148 unmatched items...\n",
      "Done Matching C:\\Users\\waliu\\Documents\\aaaaaaAutom8\\spools\\combo\\spool2_sheet9.csv: Found 0 matched items and 999999 unmatched items...\n",
      "Duration of script: 239.49895477294922 seconds\n"
     ]
    }
   ],
   "source": [
    "total_matched_count = 0\n",
    "total_unmatched_count = 0\n",
    "total_sum = 0\n",
    "\n",
    "\n",
    "folder_path = r\"C:\\Users\\waliu\\Documents\\aaaaaaAutom8\\spools\\combo\"\n",
    "file_list = os.listdir(folder_path)\n",
    "files = os.path.join(folder_path)\n",
    "\n",
    "start_time = time.time()\n",
    "matched_items = pd.DataFrame() #empty df obj for all matched items\n",
    "unmatched_items = pd.DataFrame() #empty df obj for all unmatched items\n",
    "\n",
    "\n",
    "# print('\"FILE_PATH\", \"SUM\", \"AMOUNT COUNT\",\"UNIQUE_ID_COUNT\"')\n",
    "for item in file_list:\n",
    "    processor = DataProcessor(os.path.join(folder_path, item))\n",
    "    # processor.confirm_balance()\n",
    "    processor.match_data()\n",
    "    matched_items = pd.concat([matched_items, processor.matched_df], ignore_index=True)\n",
    "    total_matched_count += processor.matched_count\n",
    "    total_unmatched_count += processor.unmatched_count\n",
    "    unmatched_items = pd.concat([unmatched_items, processor.unmatched_df], ignore_index=True)\n",
    "    total_sum += processor.total_sum\n",
    "\n",
    "    \n",
    "print(f\"Duration of script: {time.time()-start_time} seconds\")\n",
    "\n"
   ]
  },
  {
   "cell_type": "code",
   "execution_count": 26,
   "id": "880c4790-c624-42db-8475-fed163bc0f3d",
   "metadata": {
    "tags": []
   },
   "outputs": [],
   "source": []
  },
  {
   "cell_type": "code",
   "execution_count": null,
   "id": "e2b8e529-ae37-4220-a1c1-fa2e34c11672",
   "metadata": {
    "tags": []
   },
   "outputs": [],
   "source": [
    "\n"
   ]
  },
  {
   "cell_type": "code",
   "execution_count": null,
   "id": "2ced75f9-05c3-4672-aebe-422d16fb9804",
   "metadata": {
    "tags": []
   },
   "outputs": [],
   "source": []
  },
  {
   "cell_type": "code",
   "execution_count": null,
   "id": "7f44c581-871b-4535-8b2a-e699cf894b69",
   "metadata": {
    "tags": []
   },
   "outputs": [],
   "source": []
  },
  {
   "cell_type": "code",
   "execution_count": null,
   "id": "8575e9d4-4a48-4af6-ad48-161eb0b66141",
   "metadata": {
    "tags": []
   },
   "outputs": [],
   "source": []
  },
  {
   "cell_type": "code",
   "execution_count": null,
   "id": "bf7a6c7d-c260-46c1-9700-70585b69e247",
   "metadata": {
    "tags": []
   },
   "outputs": [],
   "source": []
  },
  {
   "cell_type": "code",
   "execution_count": null,
   "id": "a6e9cef4-310c-43a2-8e6a-ae8d1d4038e6",
   "metadata": {
    "tags": []
   },
   "outputs": [],
   "source": []
  },
  {
   "cell_type": "code",
   "execution_count": null,
   "id": "9eeba5d4-98a5-465b-93a6-b1dc8c7a2914",
   "metadata": {
    "tags": []
   },
   "outputs": [],
   "source": []
  },
  {
   "cell_type": "code",
   "execution_count": null,
   "id": "54862156-94e1-417f-bc51-1acff31a2b7b",
   "metadata": {
    "tags": []
   },
   "outputs": [],
   "source": []
  }
 ],
 "metadata": {
  "kernelspec": {
   "display_name": "Python 3 (ipykernel)",
   "language": "python",
   "name": "python3"
  },
  "language_info": {
   "codemirror_mode": {
    "name": "ipython",
    "version": 3
   },
   "file_extension": ".py",
   "mimetype": "text/x-python",
   "name": "python",
   "nbconvert_exporter": "python",
   "pygments_lexer": "ipython3",
   "version": "3.7.9"
  }
 },
 "nbformat": 4,
 "nbformat_minor": 5
}
